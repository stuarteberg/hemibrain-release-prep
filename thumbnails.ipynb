{
 "cells": [
  {
   "cell_type": "code",
   "execution_count": 1,
   "metadata": {},
   "outputs": [],
   "source": [
    "%load_ext autoreload\n",
    "%autoreload 2"
   ]
  },
  {
   "cell_type": "code",
   "execution_count": null,
   "metadata": {},
   "outputs": [],
   "source": [
    "from itertools import chain\n",
    "import vigra\n",
    "from skimage.transform import rescale\n",
    "\n",
    "import matplotlib.pyplot as plt\n",
    "from matplotlib.pyplot import figure\n",
    "from matplotlib.colors import LinearSegmentedColormap"
   ]
  },
  {
   "cell_type": "code",
   "execution_count": 3,
   "metadata": {},
   "outputs": [
    {
     "data": {
      "text/plain": [
       "('emdata4:8900', 'f6565acc25a6405a8404191a09ee42b4')"
      ]
     },
     "execution_count": 3,
     "metadata": {},
     "output_type": "execute_result"
    }
   ],
   "source": [
    "master"
   ]
  },
  {
   "cell_type": "code",
   "execution_count": 4,
   "metadata": {},
   "outputs": [],
   "source": [
    "from neuprint import Client\n",
    "npclient = Client('emdata1.int.janelia.org:11000')"
   ]
  },
  {
   "cell_type": "code",
   "execution_count": 5,
   "metadata": {},
   "outputs": [
    {
     "name": "stdout",
     "output_type": "stream",
     "text": [
      "(97586, 2)\n"
     ]
    },
    {
     "data": {
      "text/html": [
       "<div>\n",
       "<style scoped>\n",
       "    .dataframe tbody tr th:only-of-type {\n",
       "        vertical-align: middle;\n",
       "    }\n",
       "\n",
       "    .dataframe tbody tr th {\n",
       "        vertical-align: top;\n",
       "    }\n",
       "\n",
       "    .dataframe thead th {\n",
       "        text-align: right;\n",
       "    }\n",
       "</style>\n",
       "<table border=\"1\" class=\"dataframe\">\n",
       "  <thead>\n",
       "    <tr style=\"text-align: right;\">\n",
       "      <th></th>\n",
       "      <th>body</th>\n",
       "      <th>status</th>\n",
       "    </tr>\n",
       "  </thead>\n",
       "  <tbody>\n",
       "    <tr>\n",
       "      <td>0</td>\n",
       "      <td>633313340</td>\n",
       "      <td>Leaves</td>\n",
       "    </tr>\n",
       "    <tr>\n",
       "      <td>1</td>\n",
       "      <td>851239892</td>\n",
       "      <td>Leaves</td>\n",
       "    </tr>\n",
       "    <tr>\n",
       "      <td>2</td>\n",
       "      <td>1963726096</td>\n",
       "      <td>Leaves</td>\n",
       "    </tr>\n",
       "    <tr>\n",
       "      <td>3</td>\n",
       "      <td>1880852626</td>\n",
       "      <td>Leaves</td>\n",
       "    </tr>\n",
       "    <tr>\n",
       "      <td>4</td>\n",
       "      <td>1342876876</td>\n",
       "      <td>Leaves</td>\n",
       "    </tr>\n",
       "  </tbody>\n",
       "</table>\n",
       "</div>"
      ],
      "text/plain": [
       "         body  status\n",
       "0   633313340  Leaves\n",
       "1   851239892  Leaves\n",
       "2  1963726096  Leaves\n",
       "3  1880852626  Leaves\n",
       "4  1342876876  Leaves"
      ]
     },
     "metadata": {},
     "output_type": "display_data"
    },
    {
     "data": {
      "text/html": [
       "<div>\n",
       "<style scoped>\n",
       "    .dataframe tbody tr th:only-of-type {\n",
       "        vertical-align: middle;\n",
       "    }\n",
       "\n",
       "    .dataframe tbody tr th {\n",
       "        vertical-align: top;\n",
       "    }\n",
       "\n",
       "    .dataframe thead th {\n",
       "        text-align: right;\n",
       "    }\n",
       "</style>\n",
       "<table border=\"1\" class=\"dataframe\">\n",
       "  <thead>\n",
       "    <tr style=\"text-align: right;\">\n",
       "      <th></th>\n",
       "      <th>status</th>\n",
       "    </tr>\n",
       "  </thead>\n",
       "  <tbody>\n",
       "    <tr>\n",
       "      <td>Leaves</td>\n",
       "      <td>75353</td>\n",
       "    </tr>\n",
       "    <tr>\n",
       "      <td>Roughly traced</td>\n",
       "      <td>21561</td>\n",
       "    </tr>\n",
       "    <tr>\n",
       "      <td>Traced</td>\n",
       "      <td>672</td>\n",
       "    </tr>\n",
       "  </tbody>\n",
       "</table>\n",
       "</div>"
      ],
      "text/plain": [
       "                status\n",
       "Leaves           75353\n",
       "Roughly traced   21561\n",
       "Traced             672"
      ]
     },
     "metadata": {},
     "output_type": "display_data"
    }
   ],
   "source": [
    "q = \"\"\"\\\n",
    "    MATCH (n:`hemibrain-Neuron`)\n",
    "    WHERE n.status in [\"Leaves\", \"Prelim Roughly traced\", \"Roughly traced\", \"Traced\"]\n",
    "    RETURN n.bodyId as body, n.status as status\n",
    "\"\"\"\n",
    "bodies_df = npclient.fetch_custom(q)\n",
    "print(bodies_df.shape)\n",
    "display(bodies_df.head())\n",
    "display(pd.DataFrame(bodies_df['status'].value_counts()))"
   ]
  },
  {
   "cell_type": "code",
   "execution_count": 6,
   "metadata": {},
   "outputs": [],
   "source": [
    "def downsample_mask(mask, factor, method=np.logical_or.reduce):\n",
    "    mask = np.asarray(mask, order='C')\n",
    "    v = view_as_blocks(mask, mask.ndim*(factor,))\n",
    "    \n",
    "    last_axes = (*range(v.ndim),)[-mask.ndim:]\n",
    "    return method(v, axis=last_axes)"
   ]
  },
  {
   "cell_type": "code",
   "execution_count": 7,
   "metadata": {},
   "outputs": [],
   "source": [
    "seg_box_s6 = round_box(fetch_volume_box(*master_seg), 64*(2**6)) // 2**6\n",
    "seg_box_s5 = 2*seg_box_s6"
   ]
  },
  {
   "cell_type": "code",
   "execution_count": 8,
   "metadata": {},
   "outputs": [],
   "source": [
    "# Download scale 5\n",
    "roi_vol_s5, roi_mask = fetch_roi(*master, 'all_brain', format='mask', mask_box=seg_box_s5)\n",
    "\n",
    "# Downsample to scale 6\n",
    "roi_vol_s6 = downsample_mask(roi_vol_s5, 2)\n",
    "\n",
    "# Project through Y\n",
    "roi_thumbnail = np.logical_or.reduce(roi_vol_s6, axis=1)"
   ]
  },
  {
   "cell_type": "code",
   "execution_count": null,
   "metadata": {},
   "outputs": [],
   "source": []
  },
  {
   "cell_type": "code",
   "execution_count": 9,
   "metadata": {},
   "outputs": [],
   "source": [
    "def rshift(x, n):\n",
    "    if x >= 0:\n",
    "        return (x >> n)\n",
    "    else:\n",
    "        return (x >> n) | 0xffff_ffff_ffff_ffff << (64-n)"
   ]
  },
  {
   "cell_type": "code",
   "execution_count": 10,
   "metadata": {},
   "outputs": [
    {
     "data": {
      "text/plain": [
       "2"
      ]
     },
     "execution_count": 10,
     "metadata": {},
     "output_type": "execute_result"
    }
   ],
   "source": [
    "rshift(4, 1)"
   ]
  },
  {
   "cell_type": "code",
   "execution_count": 11,
   "metadata": {},
   "outputs": [],
   "source": [
    "from skimage.color import hsv2rgb\n",
    "\n",
    "k1 = 0xcc9e2d51\n",
    "k2 = 0x1b873593\n",
    "\n",
    "# MurmurHash excluding the final mixing steps.\n",
    "def hashCombine(state, value):\n",
    "    value = (value * k1)\n",
    "    value = ((value << 15) | rshift(value, 17))\n",
    "    value = (value * k2)\n",
    "    state = (state ^ value)\n",
    "    state = ((state << 13) | rshift(state, 19))\n",
    "    state = ((state * 5) + 0xe6546b64)\n",
    "    return state\n",
    "\n",
    "def SegmentColorHash_compute(x, hashSeed=0):\n",
    "    h = hashCombine(hashSeed, x & 0xFFFF_FFFF);\n",
    "    h = hashCombine(h, (x >> 32) & 0xFFFF_FFFF);\n",
    "    c0 = (h & 0xFF) / 255;\n",
    "    c1 = ((h >> 8) & 0xFF) / 255;\n",
    "    hsv = (c0, 0.5 + 0.5 * c1, 1.0)\n",
    "    hsv = np.asarray(hsv)\n",
    "    rgb = hsv2rgb(hsv[None, None, :])[0,0]\n",
    "    return rgb"
   ]
  },
  {
   "cell_type": "code",
   "execution_count": null,
   "metadata": {},
   "outputs": [],
   "source": []
  },
  {
   "cell_type": "code",
   "execution_count": 12,
   "metadata": {},
   "outputs": [],
   "source": [
    "import scipy.ndimage\n",
    "\n",
    "def generate_thumbnail(body, roi_thumbnail, format='labels', neuron_color=[255,255,0]):\n",
    "    mask, mask_box = fetch_sparsevol_coarse(*master_seg, body, format='mask', mask_box=seg_box_s6)\n",
    "\n",
    "    # Project through Y\n",
    "    mask_thumbnail = np.logical_or.reduce(mask, axis=1)\n",
    "\n",
    "    combined_thumbnail = roi_thumbnail.copy().astype(np.uint8)\n",
    "    combined_thumbnail[mask_thumbnail] = 2\n",
    "\n",
    "    box = compute_nonzero_box(combined_thumbnail)\n",
    "    combined_thumbnail = extract_subvol(combined_thumbnail, box)\n",
    "    \n",
    "    if format == 'labels':\n",
    "        return combined_thumbnail\n",
    "    \n",
    "    if format == 'rgb':\n",
    "        rgb = [[0,0,0], [100,100,100], neuron_color]\n",
    "        rgb = np.array(rgb)\n",
    "        rgb_thumbnail = np.zeros(combined_thumbnail.shape + (3,), dtype=np.uint8)\n",
    "        for c in range(3):\n",
    "            rgb_thumbnail[...,c] = rgb[:,c][combined_thumbnail]\n",
    "        return rgb_thumbnail\n",
    "\n",
    "def show_thumbnail(body, roi_thumbnail):\n",
    "    combined_thumbnail = generate_thumbnail(body, roi_thumbnail)\n",
    "    cmap = LinearSegmentedColormap.from_list('thumbnail_colors', ['black', 'gray', 'yellow'], 3)\n",
    "    figure(figsize=np.array(combined_thumbnail.shape) / 40)\n",
    "    p = plt.imshow(combined_thumbnail, cmap=cmap);\n",
    "    return p"
   ]
  },
  {
   "cell_type": "code",
   "execution_count": 13,
   "metadata": {},
   "outputs": [],
   "source": [
    "!mkdir -p thumbnails"
   ]
  },
  {
   "cell_type": "code",
   "execution_count": 18,
   "metadata": {},
   "outputs": [
    {
     "data": {
      "application/vnd.jupyter.widget-view+json": {
       "model_id": "",
       "version_major": 2,
       "version_minor": 0
      },
      "text/plain": [
       "HBox(children=(IntProgress(value=0, max=4880), HTML(value='')))"
      ]
     },
     "metadata": {},
     "output_type": "display_data"
    },
    {
     "name": "stdout",
     "output_type": "stream",
     "text": [
      "Failed to generate thumbnails for 9 bodies.\n"
     ]
    }
   ],
   "source": [
    "def thumbnail_batch(bodies):\n",
    "    bad_bodies = []\n",
    "    for body in bodies:\n",
    "        #color = (255*SegmentColorHash_compute(body)).astype(int)\n",
    "        color = [255,255,0]\n",
    "        try:\n",
    "            rgb = generate_thumbnail(body, roi_thumbnail, format='rgb', neuron_color=color)\n",
    "        except Exception as ex:\n",
    "            bad_bodies.append(body)\n",
    "            continue\n",
    "        \n",
    "        rgb = rescale(rgb, 1/2, anti_aliasing=True, multichannel=True)\n",
    "        vigra.impex.writeImage(rgb.transpose(1,0,2), f'thumbnails/{body}.png')\n",
    "    return bad_bodies\n",
    "\n",
    "bad_bodies = compute_parallel(thumbnail_batch, iter_batches(bodies_df['body'].values, 20), processes=32, ordered=False)\n",
    "bad_bodies = [*chain(*bad_bodies)]\n",
    "\n",
    "print(f\"Failed to generate thumbnails for {len(bad_bodies)} bodies.\")"
   ]
  },
  {
   "cell_type": "code",
   "execution_count": 162,
   "metadata": {},
   "outputs": [
    {
     "data": {
      "text/plain": [
       "(292, 269, 3)"
      ]
     },
     "execution_count": 162,
     "metadata": {},
     "output_type": "execute_result"
    }
   ],
   "source": [
    "rgb.shape"
   ]
  },
  {
   "cell_type": "code",
   "execution_count": 193,
   "metadata": {},
   "outputs": [
    {
     "data": {
      "image/png": "[encoded data removed]",
      "text/plain": [
       "<Figure size 432x288 with 1 Axes>"
      ]
     },
     "metadata": {
      "needs_background": "light"
     },
     "output_type": "display_data"
    },
    {
     "data": {
      "text/plain": [
       "<matplotlib.image.AxesImage at 0x7fdecff36cc0>"
      ]
     },
     "execution_count": 193,
     "metadata": {},
     "output_type": "execute_result"
    }
   ],
   "source": [
    "\n",
    "#body = 1790675377\n",
    "#body = 664511977\n",
    "body = 799868224\n",
    "color = (255*SegmentColorHash_compute(body)).astype(int)\n",
    "\n",
    "rgb = generate_thumbnail(body, roi_thumbnail, format='rgb', neuron_color=color)\n",
    "rgb = rescale(rgb, 1/2, anti_aliasing=True)\n",
    "vigra.impex.writeImage(rgb.transpose(1,0,2), f'{body}.png')\n",
    "\n",
    "#figure(figsize=np.array(rgb.shape[:2]) / 40)\n",
    "vigra.imshow(rgb)"
   ]
  },
  {
   "cell_type": "code",
   "execution_count": 19,
   "metadata": {},
   "outputs": [
    {
     "data": {
      "text/html": [
       "<div>\n",
       "<style scoped>\n",
       "    .dataframe tbody tr th:only-of-type {\n",
       "        vertical-align: middle;\n",
       "    }\n",
       "\n",
       "    .dataframe tbody tr th {\n",
       "        vertical-align: top;\n",
       "    }\n",
       "\n",
       "    .dataframe thead th {\n",
       "        text-align: right;\n",
       "    }\n",
       "</style>\n",
       "<table border=\"1\" class=\"dataframe\">\n",
       "  <thead>\n",
       "    <tr style=\"text-align: right;\">\n",
       "      <th></th>\n",
       "      <th>body</th>\n",
       "      <th>status</th>\n",
       "    </tr>\n",
       "  </thead>\n",
       "  <tbody>\n",
       "    <tr>\n",
       "      <td>32307</td>\n",
       "      <td>1009828654</td>\n",
       "      <td>Leaves</td>\n",
       "    </tr>\n",
       "  </tbody>\n",
       "</table>\n",
       "</div>"
      ],
      "text/plain": [
       "             body  status\n",
       "32307  1009828654  Leaves"
      ]
     },
     "execution_count": 19,
     "metadata": {},
     "output_type": "execute_result"
    }
   ],
   "source": [
    "bodies_df.query('body == 1009828654')"
   ]
  },
  {
   "cell_type": "code",
   "execution_count": null,
   "metadata": {},
   "outputs": [],
   "source": [
    "for body in bodies_df['body'].tail():\n",
    "    display(show_thumbnail(body, roi_thumbnail));"
   ]
  },
  {
   "cell_type": "code",
   "execution_count": null,
   "metadata": {},
   "outputs": [],
   "source": [
    "show_thumbnail(1790675377, roi_thumbnail);"
   ]
  },
  {
   "cell_type": "code",
   "execution_count": 62,
   "metadata": {},
   "outputs": [
    {
     "data": {
      "text/html": [
       "<div>\n",
       "<style scoped>\n",
       "    .dataframe tbody tr th:only-of-type {\n",
       "        vertical-align: middle;\n",
       "    }\n",
       "\n",
       "    .dataframe tbody tr th {\n",
       "        vertical-align: top;\n",
       "    }\n",
       "\n",
       "    .dataframe thead th {\n",
       "        text-align: right;\n",
       "    }\n",
       "</style>\n",
       "<table border=\"1\" class=\"dataframe\">\n",
       "  <thead>\n",
       "    <tr style=\"text-align: right;\">\n",
       "      <th></th>\n",
       "      <th>body</th>\n",
       "      <th>status</th>\n",
       "    </tr>\n",
       "  </thead>\n",
       "  <tbody>\n",
       "    <tr>\n",
       "      <td>97581</td>\n",
       "      <td>357224041</td>\n",
       "      <td>Traced</td>\n",
       "    </tr>\n",
       "    <tr>\n",
       "      <td>97582</td>\n",
       "      <td>829598814</td>\n",
       "      <td>Traced</td>\n",
       "    </tr>\n",
       "    <tr>\n",
       "      <td>97583</td>\n",
       "      <td>1790675377</td>\n",
       "      <td>Traced</td>\n",
       "    </tr>\n",
       "    <tr>\n",
       "      <td>97584</td>\n",
       "      <td>672598344</td>\n",
       "      <td>Traced</td>\n",
       "    </tr>\n",
       "    <tr>\n",
       "      <td>97585</td>\n",
       "      <td>674420122</td>\n",
       "      <td>Traced</td>\n",
       "    </tr>\n",
       "  </tbody>\n",
       "</table>\n",
       "</div>"
      ],
      "text/plain": [
       "             body  status\n",
       "97581   357224041  Traced\n",
       "97582   829598814  Traced\n",
       "97583  1790675377  Traced\n",
       "97584   672598344  Traced\n",
       "97585   674420122  Traced"
      ]
     },
     "execution_count": 62,
     "metadata": {},
     "output_type": "execute_result"
    }
   ],
   "source": [
    "bodies_df.tail()"
   ]
  },
  {
   "cell_type": "code",
   "execution_count": 20,
   "metadata": {},
   "outputs": [
    {
     "data": {
      "text/plain": [
       "'/nrs/flyem/bergs/hemibrain-release'"
      ]
     },
     "execution_count": 20,
     "metadata": {},
     "output_type": "execute_result"
    }
   ],
   "source": [
    "pwd"
   ]
  },
  {
   "cell_type": "code",
   "execution_count": 22,
   "metadata": {},
   "outputs": [
    {
     "name": "stdout",
     "output_type": "stream",
     "text": [
      "drwxr-sr-x 2 bergs flyem 4096 Nov 25 17:02 \u001b[0m\u001b[38;5;27m/nrs/flyem/bergs/hemibrain-release/thumbnails/\u001b[0m/\n"
     ]
    }
   ],
   "source": [
    "ls -ld /nrs/flyem/bergs/hemibrain-release/thumbnails/"
   ]
  },
  {
   "cell_type": "code",
   "execution_count": null,
   "metadata": {},
   "outputs": [],
   "source": []
  }
 ],
 "metadata": {
  "kernelspec": {
   "display_name": "Python 3",
   "language": "python",
   "name": "python3"
  },
  "language_info": {
   "codemirror_mode": {
    "name": "ipython",
    "version": 3
   },
   "file_extension": ".py",
   "mimetype": "text/x-python",
   "name": "python",
   "nbconvert_exporter": "python",
   "pygments_lexer": "ipython3",
   "version": "3.7.3"
  }
 },
 "nbformat": 4,
 "nbformat_minor": 4
}
