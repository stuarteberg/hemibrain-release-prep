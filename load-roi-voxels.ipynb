{
 "cells": [
  {
   "cell_type": "code",
   "execution_count": 1,
   "metadata": {},
   "outputs": [],
   "source": [
    "%load_ext autoreload\n",
    "%autoreload 2"
   ]
  },
  {
   "cell_type": "code",
   "execution_count": 2,
   "metadata": {},
   "outputs": [
    {
     "data": {
      "text/plain": [
       "('emdata4:8900', 'f6565acc25a6405a8404191a09ee42b4')"
      ]
     },
     "execution_count": 2,
     "metadata": {},
     "output_type": "execute_result"
    }
   ],
   "source": [
    "master"
   ]
  },
  {
   "cell_type": "code",
   "execution_count": 3,
   "metadata": {},
   "outputs": [],
   "source": [
    "from neuprint import Client\n",
    "npclient = Client('emdata1.int.janelia.org:13000')"
   ]
  },
  {
   "cell_type": "code",
   "execution_count": 4,
   "metadata": {},
   "outputs": [
    {
     "name": "stdout",
     "output_type": "stream",
     "text": [
      "['AB(L)', 'AB(R)', 'AL(L)', 'AL(R)', 'AME(R)', 'AMMC', 'AOTU(R)', 'ATL(L)', 'ATL(R)', 'AVLP(R)', 'BU(L)', 'BU(R)', 'CA(L)', 'CA(R)', 'CAN(R)', 'CRE(L)', 'CRE(R)', 'EB', 'EPA(R)', 'FB', 'FLA(R)', 'GA(R)', 'GNG', 'GOR(L)', 'GOR(R)', 'IB', 'ICL(L)', 'ICL(R)', 'IPS', 'LAL(L)', 'LAL(R)', 'LO(R)', 'LOP(R)', 'ME(R)', 'NO', 'PB', 'PED(R)', 'PLP(R)', 'PRW', 'PVLP(R)', 'ROB(R)', 'SAD', 'SCL(L)', 'SCL(R)', 'SIP(L)', 'SIP(R)', 'SLP(R)', 'SMP(L)', 'SMP(R)', 'SPS(L)', 'SPS(R)', 'VES(L)', 'VES(R)', 'WED(R)', \"a'L(L)\", \"a'L(R)\", 'aL(L)', 'aL(R)', \"b'L(L)\", \"b'L(R)\", 'bL(L)', 'bL(R)', 'dACA(R)', 'gL(L)', 'gL(R)', 'lACA(R)', 'vACA(R)']\n"
     ]
    }
   ],
   "source": [
    "q = \"\"\"\\\n",
    "  MATCH (m:Meta{dataset:'hemibrain'})\n",
    "  RETURN m.superLevelRois AS rois\n",
    "\"\"\"\n",
    "rois = npclient.fetch_custom(q)['rois'].iloc[0]\n",
    "rois = sorted(rois)\n",
    "print(rois)"
   ]
  },
  {
   "cell_type": "code",
   "execution_count": 30,
   "metadata": {},
   "outputs": [
    {
     "data": {
      "application/vnd.jupyter.widget-view+json": {
       "model_id": "",
       "version_major": 2,
       "version_minor": 0
      },
      "text/plain": [
       "HBox(children=(IntProgress(value=0, max=67), HTML(value='')))"
      ]
     },
     "metadata": {},
     "output_type": "display_data"
    },
    {
     "name": "stdout",
     "output_type": "stream",
     "text": [
      "\r"
     ]
    },
    {
     "data": {
      "application/vnd.jupyter.widget-view+json": {
       "model_id": "",
       "version_major": 2,
       "version_minor": 0
      },
      "text/plain": [
       "HBox(children=(IntProgress(value=0, max=67), HTML(value='')))"
      ]
     },
     "metadata": {},
     "output_type": "display_data"
    },
    {
     "name": "stdout",
     "output_type": "stream",
     "text": [
      "\r"
     ]
    }
   ],
   "source": [
    "seg_box = round_box(fetch_volume_box(*master_seg), 2**5 * 64) // (2**5)\n",
    "roi_vol, roi_box, overlaps = fetch_combined_roi_volume(*master, rois, box_zyx=seg_box)"
   ]
  },
  {
   "cell_type": "code",
   "execution_count": 31,
   "metadata": {},
   "outputs": [
    {
     "name": "stdout",
     "output_type": "stream",
     "text": [
      "[[   0    0    0]\n",
      " [1344 1280 1088]]\n",
      "[(44, 63), (47, 63), (47, 66), (38, 67)]\n"
     ]
    }
   ],
   "source": [
    "print(roi_box)\n",
    "print(overlaps)"
   ]
  },
  {
   "cell_type": "code",
   "execution_count": 33,
   "metadata": {},
   "outputs": [],
   "source": [
    "post_labelmap_voxels(*master, 'segmentation_roi_voxels', roi_box[0], roi_vol, downres=True, noindexing=False)"
   ]
  },
  {
   "cell_type": "code",
   "execution_count": null,
   "metadata": {},
   "outputs": [],
   "source": []
  }
 ],
 "metadata": {
  "kernelspec": {
   "display_name": "Python 3",
   "language": "python",
   "name": "python3"
  },
  "language_info": {
   "codemirror_mode": {
    "name": "ipython",
    "version": 3
   },
   "file_extension": ".py",
   "mimetype": "text/x-python",
   "name": "python",
   "nbconvert_exporter": "python",
   "pygments_lexer": "ipython3",
   "version": "3.7.3"
  }
 },
 "nbformat": 4,
 "nbformat_minor": 4
}
